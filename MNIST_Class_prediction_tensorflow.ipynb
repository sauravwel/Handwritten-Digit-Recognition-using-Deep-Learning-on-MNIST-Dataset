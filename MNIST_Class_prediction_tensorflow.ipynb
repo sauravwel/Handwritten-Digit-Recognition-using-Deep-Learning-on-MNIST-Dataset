{
  "metadata": {
    "kernelspec": {
      "name": "python",
      "display_name": "Python (Pyodide)",
      "language": "python"
    },
    "language_info": {
      "codemirror_mode": {
        "name": "python",
        "version": 3
      },
      "file_extension": ".py",
      "mimetype": "text/x-python",
      "name": "python",
      "nbconvert_exporter": "python",
      "pygments_lexer": "ipython3",
      "version": "3.8"
    }
  },
  "nbformat_minor": 4,
  "nbformat": 4,
  "cells": [
    {
      "cell_type": "markdown",
      "source": "# Deep Neural Network in TensorFlow",
      "metadata": {}
    },
    {
      "cell_type": "markdown",
      "source": "\n\n\nIn this notebook, we are trying to create depp neural network using TensorFlow to classify handwritten digits",
      "metadata": {}
    },
    {
      "cell_type": "markdown",
      "source": "[![Open In Colab](https://colab.research.google.com/assets/colab-badge.svg)](https://colab.research.google.com/github/jonkrohn/DLTFpT/blob/master/notebooks/deep_net_in_tensorflow.ipynb)",
      "metadata": {}
    },
    {
      "cell_type": "markdown",
      "source": "#### Load dependencies",
      "metadata": {}
    },
    {
      "cell_type": "code",
      "source": "import tensorflow\nfrom tensorflow.keras.datasets import mnist\nfrom tensorflow.keras.utils import to_categorical\nfrom tensorflow.keras.models import Sequential\nfrom tensorflow.keras.layers import Dense\nfrom tensorflow.keras.layers import Dropout # new!\nfrom tensorflow.keras.layers import BatchNormalization # new!\nfrom tensorflow.keras.optimizers import SGD\nfrom matplotlib import pyplot as plt",
      "metadata": {
        "scrolled": true
      },
      "execution_count": 1,
      "outputs": []
    },
    {
      "cell_type": "markdown",
      "source": "#### Load data",
      "metadata": {}
    },
    {
      "cell_type": "code",
      "source": "(X_train, y_train), (X_valid, y_valid) = mnist.load_data()",
      "metadata": {
        "scrolled": true
      },
      "execution_count": 2,
      "outputs": []
    },
    {
      "cell_type": "markdown",
      "source": "#### Preprocess data",
      "metadata": {}
    },
    {
      "cell_type": "code",
      "source": "X_train = X_train.reshape(60000, 784).astype('float32')\nX_valid = X_valid.reshape(10000, 784).astype('float32')",
      "metadata": {},
      "execution_count": 3,
      "outputs": []
    },
    {
      "cell_type": "code",
      "source": "X_train /= 255\nX_valid /= 255",
      "metadata": {},
      "execution_count": 4,
      "outputs": []
    },
    {
      "cell_type": "code",
      "source": "n_classes = 10\ny_train = to_categorical(y_train, n_classes)\ny_valid = to_categorical(y_valid, n_classes)",
      "metadata": {},
      "execution_count": 5,
      "outputs": []
    },
    {
      "cell_type": "markdown",
      "source": "#### Design neural network architecture",
      "metadata": {}
    },
    {
      "cell_type": "code",
      "source": "model = Sequential()\n\nmodel.add(Dense(64, activation='relu', input_shape=(784,)))\nmodel.add(BatchNormalization())\n\nmodel.add(Dense(64, activation='relu'))\nmodel.add(BatchNormalization())\n\nmodel.add(Dense(64, activation='relu'))\nmodel.add(BatchNormalization())\nmodel.add(Dropout(0.2))\n\nmodel.add(Dense(10, activation='softmax'))",
      "metadata": {},
      "execution_count": 6,
      "outputs": []
    },
    {
      "cell_type": "code",
      "source": "model.summary()",
      "metadata": {},
      "execution_count": 7,
      "outputs": [
        {
          "name": "stdout",
          "output_type": "stream",
          "text": "Model: \"sequential\"\n\n_________________________________________________________________\n\nLayer (type)                 Output Shape              Param #   \n\n=================================================================\n\ndense (Dense)                (None, 64)                50240     \n\n_________________________________________________________________\n\nbatch_normalization (BatchNo (None, 64)                256       \n\n_________________________________________________________________\n\ndense_1 (Dense)              (None, 64)                4160      \n\n_________________________________________________________________\n\nbatch_normalization_1 (Batch (None, 64)                256       \n\n_________________________________________________________________\n\ndense_2 (Dense)              (None, 64)                4160      \n\n_________________________________________________________________\n\nbatch_normalization_2 (Batch (None, 64)                256       \n\n_________________________________________________________________\n\ndropout (Dropout)            (None, 64)                0         \n\n_________________________________________________________________\n\ndense_3 (Dense)              (None, 10)                650       \n\n=================================================================\n\nTotal params: 59,978\n\nTrainable params: 59,594\n\nNon-trainable params: 384\n\n_________________________________________________________________\n"
        }
      ]
    },
    {
      "cell_type": "markdown",
      "source": "#### Configure model",
      "metadata": {}
    },
    {
      "cell_type": "code",
      "source": "model.compile(loss='categorical_crossentropy', optimizer='nadam', metrics=['accuracy'])",
      "metadata": {},
      "execution_count": 8,
      "outputs": []
    },
    {
      "cell_type": "markdown",
      "source": "#### Train!",
      "metadata": {}
    },
    {
      "cell_type": "code",
      "source": "model.fit(X_train, y_train, batch_size=128, epochs=20, verbose=1, validation_data=(X_valid, y_valid))",
      "metadata": {},
      "execution_count": 10,
      "outputs": [
        {
          "name": "stdout",
          "output_type": "stream",
          "text": "Train on 60000 samples, validate on 10000 samples\n\nEpoch 1/20\n\n60000/60000 [==============================] - 3s 45us/sample - loss: 0.3792 - accuracy: 0.8857 - val_loss: 0.1684 - val_accuracy: 0.9479\n\nEpoch 2/20\n\n60000/60000 [==============================] - 2s 31us/sample - loss: 0.1519 - accuracy: 0.9542 - val_loss: 0.1251 - val_accuracy: 0.9596\n\nEpoch 3/20\n\n60000/60000 [==============================] - 2s 26us/sample - loss: 0.1110 - accuracy: 0.9663 - val_loss: 0.1087 - val_accuracy: 0.9669\n\nEpoch 4/20\n\n60000/60000 [==============================] - 2s 30us/sample - loss: 0.0885 - accuracy: 0.9726 - val_loss: 0.0986 - val_accuracy: 0.9711\n\nEpoch 5/20\n\n60000/60000 [==============================] - 1s 19us/sample - loss: 0.0748 - accuracy: 0.9765 - val_loss: 0.0900 - val_accuracy: 0.9735\n\nEpoch 6/20\n\n60000/60000 [==============================] - 1s 23us/sample - loss: 0.0624 - accuracy: 0.9804 - val_loss: 0.0964 - val_accuracy: 0.9718\n\nEpoch 7/20\n\n60000/60000 [==============================] - 2s 26us/sample - loss: 0.0580 - accuracy: 0.9812 - val_loss: 0.1052 - val_accuracy: 0.9676\n\nEpoch 8/20\n\n60000/60000 [==============================] - 2s 29us/sample - loss: 0.0492 - accuracy: 0.9843 - val_loss: 0.0999 - val_accuracy: 0.9715\n\nEpoch 9/20\n\n60000/60000 [==============================] - 1s 24us/sample - loss: 0.0450 - accuracy: 0.9856 - val_loss: 0.0951 - val_accuracy: 0.9744\n\nEpoch 10/20\n\n60000/60000 [==============================] - 1s 23us/sample - loss: 0.0396 - accuracy: 0.9870 - val_loss: 0.1011 - val_accuracy: 0.9717\n\nEpoch 11/20\n\n60000/60000 [==============================] - 2s 31us/sample - loss: 0.0389 - accuracy: 0.9871 - val_loss: 0.1033 - val_accuracy: 0.9725\n\nEpoch 12/20\n\n60000/60000 [==============================] - 2s 29us/sample - loss: 0.0365 - accuracy: 0.9878 - val_loss: 0.1062 - val_accuracy: 0.9725\n\nEpoch 13/20\n\n60000/60000 [==============================] - 2s 25us/sample - loss: 0.0327 - accuracy: 0.9888 - val_loss: 0.0955 - val_accuracy: 0.9764\n\nEpoch 14/20\n\n60000/60000 [==============================] - 2s 25us/sample - loss: 0.0279 - accuracy: 0.9902 - val_loss: 0.1111 - val_accuracy: 0.9736\n\nEpoch 15/20\n\n60000/60000 [==============================] - 1s 22us/sample - loss: 0.0302 - accuracy: 0.9900 - val_loss: 0.0966 - val_accuracy: 0.9768\n\nEpoch 16/20\n\n60000/60000 [==============================] - 1s 20us/sample - loss: 0.0258 - accuracy: 0.9915 - val_loss: 0.0961 - val_accuracy: 0.9761\n\nEpoch 17/20\n\n60000/60000 [==============================] - 1s 23us/sample - loss: 0.0256 - accuracy: 0.9913 - val_loss: 0.1047 - val_accuracy: 0.9751\n\nEpoch 18/20\n\n60000/60000 [==============================] - 2s 35us/sample - loss: 0.0245 - accuracy: 0.9916 - val_loss: 0.0983 - val_accuracy: 0.9766\n\nEpoch 19/20\n\n60000/60000 [==============================] - 1s 22us/sample - loss: 0.0211 - accuracy: 0.9928 - val_loss: 0.1067 - val_accuracy: 0.9745\n\nEpoch 20/20\n\n60000/60000 [==============================] - 1s 24us/sample - loss: 0.0188 - accuracy: 0.9937 - val_loss: 0.0997 - val_accuracy: 0.9782\n"
        },
        {
          "execution_count": 10,
          "output_type": "execute_result",
          "data": {
            "text/plain": [
              "<tensorflow.python.keras.callbacks.History at 0x7fa724709da0>"
            ]
          },
          "metadata": {}
        }
      ]
    },
    {
      "cell_type": "markdown",
      "source": "#### Performing inference",
      "metadata": {}
    },
    {
      "cell_type": "code",
      "source": "valid_0 = X_valid[0].reshape(1, 784)",
      "metadata": {},
      "execution_count": 11,
      "outputs": []
    },
    {
      "cell_type": "code",
      "source": "model.predict(valid_0)",
      "metadata": {},
      "execution_count": 12,
      "outputs": [
        {
          "execution_count": 12,
          "output_type": "execute_result",
          "data": {
            "text/plain": [
              "array([[7.2624915e-09, 8.5062624e-08, 2.0962524e-07, 5.7667972e-07,\n",
              "        4.9338365e-07, 1.0011472e-08, 8.8665271e-09, 9.9999857e-01,\n",
              "        4.2588776e-11, 2.5565042e-08]], dtype=float32)"
            ]
          },
          "metadata": {}
        }
      ]
    },
    {
      "cell_type": "code",
      "source": "model.predict_classes(valid_0)",
      "metadata": {},
      "execution_count": 13,
      "outputs": [
        {
          "execution_count": 13,
          "output_type": "execute_result",
          "data": {
            "text/plain": [
              "array([7])"
            ]
          },
          "metadata": {}
        }
      ]
    },
    {
      "cell_type": "code",
      "source": "",
      "metadata": {},
      "execution_count": null,
      "outputs": []
    }
  ]
}