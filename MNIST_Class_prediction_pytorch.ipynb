{
  "metadata": {
    "accelerator": "TPU",
    "colab": {
      "name": "deep_net_in_pytorch.ipynb",
      "provenance": [],
      "include_colab_link": true
    },
    "kernelspec": {
      "name": "python",
      "display_name": "Python (Pyodide)",
      "language": "python"
    },
    "language_info": {
      "codemirror_mode": {
        "name": "python",
        "version": 3
      },
      "file_extension": ".py",
      "mimetype": "text/x-python",
      "name": "python",
      "nbconvert_exporter": "python",
      "pygments_lexer": "ipython3",
      "version": "3.8"
    }
  },
  "nbformat_minor": 4,
  "nbformat": 4,
  "cells": [
    {
      "cell_type": "markdown",
      "source": "# Deep Neural Network in PyTorch\n\nIn this notebook, we are trying to create depp neural network using PyTorch to classify handwritten digits.",
      "metadata": {
        "id": "VkIRIR7XxpP0"
      }
    },
    {
      "cell_type": "markdown",
      "source": "#### Load dependencies",
      "metadata": {
        "id": "XJv0N43uyVsy"
      }
    },
    {
      "cell_type": "code",
      "source": "import torch\nimport torch.nn as nn\n\nfrom torchvision.datasets import MNIST\nfrom torchvision import transforms\n\nfrom torchsummary import summary",
      "metadata": {
        "id": "rAh1QLwWyYvY"
      },
      "execution_count": 1,
      "outputs": []
    },
    {
      "cell_type": "markdown",
      "source": "#### Load data",
      "metadata": {
        "id": "g-Nh_zNUyarq"
      }
    },
    {
      "cell_type": "code",
      "source": "train = MNIST('data', train=True, transform=transforms.ToTensor(), download=True)\ntest = MNIST('data', train=False, transform=transforms.ToTensor())",
      "metadata": {
        "id": "6vBWZlFGydPY"
      },
      "execution_count": 2,
      "outputs": []
    },
    {
      "cell_type": "markdown",
      "source": "#### Batch data",
      "metadata": {
        "id": "Bi5GT2I_yobV"
      }
    },
    {
      "cell_type": "code",
      "source": "train_loader = torch.utils.data.DataLoader(train, batch_size=128) \ntest_loader = torch.utils.data.DataLoader(test, batch_size=128) ",
      "metadata": {
        "id": "wbqPKnEXy9i6"
      },
      "execution_count": 3,
      "outputs": []
    },
    {
      "cell_type": "markdown",
      "source": "#### Design neural network architecture",
      "metadata": {
        "id": "SgJkRG_hzM1r"
      }
    },
    {
      "cell_type": "code",
      "source": "n_input = 784\nn_dense_1 = 64\nn_dense_2 = 64\nn_dense_3 = 64\nn_out = 10",
      "metadata": {
        "id": "7TnSFYGpzRMD"
      },
      "execution_count": 4,
      "outputs": []
    },
    {
      "cell_type": "code",
      "source": "model = nn.Sequential(\n    \n    # first hidden layer: \n    nn.Linear(n_input, n_dense_1), \n    nn.ReLU(), \n    \n    # second hidden layer: \n    nn.Linear(n_dense_1, n_dense_2), \n    nn.ReLU(), \n    \n    # third hidden layer: \n    nn.Linear(n_dense_2, n_dense_3), \n    nn.ReLU(), \n    nn.Dropout(),  \n    \n    # output layer: \n    nn.Linear(n_dense_3, n_out) \n)",
      "metadata": {
        "id": "YAFJBtBYzYcc"
      },
      "execution_count": 5,
      "outputs": []
    },
    {
      "cell_type": "code",
      "source": "summary(model, (1, n_input))",
      "metadata": {
        "colab": {
          "base_uri": "https://localhost:8080/"
        },
        "id": "bjfVGdDp0YDJ",
        "outputId": "776af2d1-5f39-4fb4-a195-599def86a899"
      },
      "execution_count": 6,
      "outputs": [
        {
          "output_type": "stream",
          "name": "stdout",
          "text": "----------------------------------------------------------------\n\n        Layer (type)               Output Shape         Param #\n\n================================================================\n\n            Linear-1                [-1, 1, 64]          50,240\n\n              ReLU-2                [-1, 1, 64]               0\n\n            Linear-3                [-1, 1, 64]           4,160\n\n              ReLU-4                [-1, 1, 64]               0\n\n            Linear-5                [-1, 1, 64]           4,160\n\n              ReLU-6                [-1, 1, 64]               0\n\n           Dropout-7                [-1, 1, 64]               0\n\n            Linear-8                [-1, 1, 10]             650\n\n================================================================\n\nTotal params: 59,210\n\nTrainable params: 59,210\n\nNon-trainable params: 0\n\n----------------------------------------------------------------\n\nInput size (MB): 0.00\n\nForward/backward pass size (MB): 0.00\n\nParams size (MB): 0.23\n\nEstimated Total Size (MB): 0.23\n\n----------------------------------------------------------------\n"
        }
      ]
    },
    {
      "cell_type": "markdown",
      "source": "#### Configure training hyperparameters",
      "metadata": {
        "id": "nzT_k2fF0gT1"
      }
    },
    {
      "cell_type": "code",
      "source": "cost_fxn = nn.CrossEntropyLoss() # includes softmax activation",
      "metadata": {
        "id": "VS9m8bPd0j-T"
      },
      "execution_count": 7,
      "outputs": []
    },
    {
      "cell_type": "code",
      "source": "optimizer = torch.optim.Adam(model.parameters())",
      "metadata": {
        "id": "9AKQugeh0lhM"
      },
      "execution_count": 8,
      "outputs": []
    },
    {
      "cell_type": "markdown",
      "source": "#### Train",
      "metadata": {
        "id": "HVVGdPLI0oLk"
      }
    },
    {
      "cell_type": "code",
      "source": "def accuracy_pct(pred_y, true_y):\n  _, prediction = torch.max(pred_y, 1) # returns maximum values, indices; fed tensor, dim to reduce\n  correct = (prediction == true_y).sum().item()\n  return (correct / true_y.shape[0]) * 100.0",
      "metadata": {
        "id": "OxZMGQHd0s_b"
      },
      "execution_count": 9,
      "outputs": []
    },
    {
      "cell_type": "code",
      "source": "n_batches = len(train_loader)\nn_batches",
      "metadata": {
        "colab": {
          "base_uri": "https://localhost:8080/"
        },
        "id": "481O1w790pvJ",
        "outputId": "69a2fe5a-bb8a-41fd-9224-49836519ce48"
      },
      "execution_count": 10,
      "outputs": [
        {
          "output_type": "execute_result",
          "execution_count": 10,
          "data": {
            "text/plain": [
              "469"
            ]
          },
          "metadata": {}
        }
      ]
    },
    {
      "cell_type": "code",
      "source": "n_epochs = 10 \n\nprint('Training for {} epochs. \\n'.format(n_epochs))\n\nfor epoch in range(n_epochs):\n  \n  avg_cost = 0.0\n  avg_accuracy = 0.0\n  \n  for i, (X, y) in enumerate(train_loader): # enumerate() provides count of iterations  \n    \n    # forward propagation:\n    X_flat = X.view(X.shape[0], -1)\n    y_hat = model(X_flat)\n    cost = cost_fxn(y_hat, y)\n    avg_cost += cost / n_batches\n    \n    # backprop and optimization via gradient descent: \n    optimizer.zero_grad() # set gradients to zero; .backward() accumulates them in buffers\n    cost.backward()\n    optimizer.step()\n    \n    # calculate accuracy metric:\n    accuracy = accuracy_pct(y_hat, y)\n    avg_accuracy += accuracy / n_batches\n    \n    if (i + 1) % 100 == 0:\n      print('Step {}'.format(i + 1))\n    \n  print('Epoch {}/{} complete. Cost: {:.3f}, Accuracy: {:.1f}% \\n'\n        .format(epoch + 1, n_epochs, avg_cost, avg_accuracy)) \n\nprint('Training complete.')",
      "metadata": {
        "colab": {
          "base_uri": "https://localhost:8080/"
        },
        "id": "0K-f-uJb0x7A",
        "outputId": "184db63e-eb45-4209-adc4-e45bdda51665"
      },
      "execution_count": 11,
      "outputs": [
        {
          "output_type": "stream",
          "name": "stdout",
          "text": "Training for 10 epochs. \n\n\n\nStep 100\n\nStep 200\n\nStep 300\n\nStep 400\n\nEpoch 1/10 complete. Cost: 0.688, Accuracy: 79.0% \n\n\n\nStep 100\n\nStep 200\n\nStep 300\n\nStep 400\n\nEpoch 2/10 complete. Cost: 0.282, Accuracy: 92.4% \n\n\n\nStep 100\n\nStep 200\n\nStep 300\n\nStep 400\n\nEpoch 3/10 complete. Cost: 0.206, Accuracy: 94.4% \n\n\n\nStep 100\n\nStep 200\n\nStep 300\n\nStep 400\n\nEpoch 4/10 complete. Cost: 0.164, Accuracy: 95.4% \n\n\n\nStep 100\n\nStep 200\n\nStep 300\n\nStep 400\n\nEpoch 5/10 complete. Cost: 0.134, Accuracy: 96.3% \n\n\n\nStep 100\n\nStep 200\n\nStep 300\n\nStep 400\n\nEpoch 6/10 complete. Cost: 0.115, Accuracy: 96.8% \n\n\n\nStep 100\n\nStep 200\n\nStep 300\n\nStep 400\n\nEpoch 7/10 complete. Cost: 0.101, Accuracy: 97.2% \n\n\n\nStep 100\n\nStep 200\n\nStep 300\n\nStep 400\n\nEpoch 8/10 complete. Cost: 0.090, Accuracy: 97.5% \n\n\n\nStep 100\n\nStep 200\n\nStep 300\n\nStep 400\n\nEpoch 9/10 complete. Cost: 0.081, Accuracy: 97.7% \n\n\n\nStep 100\n\nStep 200\n\nStep 300\n\nStep 400\n\nEpoch 10/10 complete. Cost: 0.071, Accuracy: 98.0% \n\n\n\nTraining complete.\n"
        }
      ]
    },
    {
      "cell_type": "markdown",
      "source": "#### Test model",
      "metadata": {
        "id": "OKqQEbxY0ris"
      }
    },
    {
      "cell_type": "code",
      "source": "n_test_batches = len(test_loader)\nn_test_batches",
      "metadata": {
        "colab": {
          "base_uri": "https://localhost:8080/"
        },
        "id": "a5RxXcEy04UM",
        "outputId": "458421b3-4023-4bdd-df0c-1fcb651ceef3"
      },
      "execution_count": 12,
      "outputs": [
        {
          "output_type": "execute_result",
          "execution_count": 12,
          "data": {
            "text/plain": [
              "79"
            ]
          },
          "metadata": {}
        }
      ]
    },
    {
      "cell_type": "code",
      "source": "model.eval() # disables dropout and batch norm\n\nwith torch.no_grad(): # disables autograd, reducing memory consumption\n  \n  avg_test_cost = 0.0\n  avg_test_acc = 0.0\n  \n  for X, y in test_loader:\n    \n    # make predictions: \n    X_flat = X.view(X.shape[0], -1)\n    y_hat = model(X_flat)\n    \n    # calculate cost: \n    cost = cost_fxn(y_hat, y)\n    avg_test_cost += cost / n_test_batches\n    \n    # calculate accuracy:\n    test_accuracy = accuracy_pct(y_hat, y)\n    avg_test_acc += test_accuracy / n_test_batches\n\nprint('Test cost: {:.3f}, Test accuracy: {:.1f}%'.format(avg_test_cost, avg_test_acc))\n\n# model.train() # 'undoes' model.eval()",
      "metadata": {
        "colab": {
          "base_uri": "https://localhost:8080/"
        },
        "id": "DqeluNIm06pT",
        "outputId": "b83e8971-7464-4da5-cbe6-0b8890d1dd82"
      },
      "execution_count": 13,
      "outputs": [
        {
          "output_type": "stream",
          "name": "stdout",
          "text": "Test cost: 0.111, Test accuracy: 97.1%\n"
        }
      ]
    }
  ]
}